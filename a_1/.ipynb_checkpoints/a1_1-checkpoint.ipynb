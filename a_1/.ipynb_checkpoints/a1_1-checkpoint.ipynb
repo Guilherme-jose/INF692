{
 "cells": [
  {
   "cell_type": "code",
   "execution_count": 14,
   "id": "1a3b4471-4932-4abb-b2be-c749eb4084bf",
   "metadata": {},
   "outputs": [
    {
     "name": "stdout",
     "output_type": "stream",
     "text": [
      "NumPy Version: 2.2.2\n",
      "OpenCV Version: 4.11.0\n",
      "PIL Version: 11.1.0\n"
     ]
    },
    {
     "name": "stderr",
     "output_type": "stream",
     "text": [
      "[ WARN:0@488.576] global cap_gstreamer.cpp:1777 open OpenCV | GStreamer warning: Cannot query video position: status=0, value=-1, duration=-1\n"
     ]
    },
    {
     "name": "stdout",
     "output_type": "stream",
     "text": [
      "Image 0 captured in grayscale.\n",
      "Image 1 captured in grayscale.\n",
      "Image 2 captured in grayscale.\n",
      "Image 3 captured in grayscale.\n",
      "Image 4 captured in grayscale.\n",
      "Image 5 captured in grayscale.\n",
      "Image 6 captured in grayscale.\n",
      "Image 7 captured in grayscale.\n",
      "Image 8 captured in grayscale.\n",
      "Image 9 captured in grayscale.\n"
     ]
    }
   ],
   "source": [
    "import cv2\n",
    "import numpy as np\n",
    "import PIL\n",
    "import time\n",
    "\n",
    "print('NumPy Version:', np.__version__)\n",
    "print('OpenCV Version:', cv2.__version__)\n",
    "print('PIL Version:', PIL.__version__)\n",
    "\n",
    "cap = cv2.VideoCapture(0)\n",
    "\n",
    "if not cap.isOpened():\n",
    "    print(\"Error: Could not open camera.\")\n",
    "else:\n",
    "    for i in range(10):\n",
    "        ret, frame = cap.read()\n",
    "        \n",
    "        if ret:\n",
    "            gray_frame = cv2.cvtColor(frame, cv2.COLOR_BGR2GRAY)\n",
    "            cv2.imwrite(f'imgs/image_{i}.png', gray_frame)\n",
    "            print(f'Image {i} captured in grayscale.')\n",
    "        else:\n",
    "            print(f'Error: Could not read frame {i}.')\n",
    "        \n",
    "        time.sleep(1)\n",
    "cap.release()\n"
   ]
  },
  {
   "cell_type": "code",
   "execution_count": 15,
   "id": "c91ad399",
   "metadata": {},
   "outputs": [
    {
     "data": {
      "text/plain": [
       "True"
      ]
     },
     "execution_count": 15,
     "metadata": {},
     "output_type": "execute_result"
    }
   ],
   "source": [
    "images = []\n",
    "for i in range(10):\n",
    "    img = cv2.imread(f'imgs/image_{i}.png')\n",
    "    if img is not None:\n",
    "        images.append(img)\n",
    "    else:\n",
    "        print(f'Failed to read image_{i}.png')\n",
    "\n",
    "diffs = []\n",
    "\n",
    "for i in range(9):\n",
    "    diff = cv2.absdiff(images[i], images[i+1])\n",
    "    diffs.append(diff)\n",
    "\n",
    "diff = np.zeros_like(diffs[0])\n",
    "for i in range(9):\n",
    "    diff = cv2.add(diff, diffs[i])\n",
    "\n",
    "cv2.imwrite('diff.png', diff)"
   ]
  },
  {
   "cell_type": "code",
   "execution_count": 16,
   "id": "35483465",
   "metadata": {},
   "outputs": [
    {
     "data": {
      "text/plain": [
       "True"
      ]
     },
     "execution_count": 16,
     "metadata": {},
     "output_type": "execute_result"
    }
   ],
   "source": [
    "mean = np.mean(images, axis=0).astype(np.uint8)\n",
    "cv2.imwrite('mean.png', mean)"
   ]
  },
  {
   "cell_type": "code",
   "execution_count": 17,
   "id": "9ac4ee61",
   "metadata": {},
   "outputs": [
    {
     "data": {
      "text/plain": [
       "True"
      ]
     },
     "execution_count": 17,
     "metadata": {},
     "output_type": "execute_result"
    }
   ],
   "source": [
    "std_dev = np.std(images, axis=0).astype(np.uint8)\n",
    "cv2.imwrite('std_dev.png', std_dev)"
   ]
  }
 ],
 "metadata": {
  "kernelspec": {
   "display_name": "Python 3",
   "language": "python",
   "name": "python3"
  },
  "language_info": {
   "codemirror_mode": {
    "name": "ipython",
    "version": 3
   },
   "file_extension": ".py",
   "mimetype": "text/x-python",
   "name": "python",
   "nbconvert_exporter": "python",
   "pygments_lexer": "ipython3",
   "version": "3.13.1"
  }
 },
 "nbformat": 4,
 "nbformat_minor": 5
}
